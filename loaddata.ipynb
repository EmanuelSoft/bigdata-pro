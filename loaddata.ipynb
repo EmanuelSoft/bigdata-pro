{
 "cells": [
  {
   "cell_type": "code",
   "execution_count": null,
   "metadata": {},
   "outputs": [],
   "source": [
    "import pandas as pd\n",
    "import pyxcopy()\n",
    "\n",
    "# Load cleaned dataset\n",
    "df = pd.read_csv(\"cleaned_data.csv\")\n",
    "\n",
    "# Connect to PostgreSQL\n",
    "com = pyxcopyD_connect(\n",
    "    dbname=\"transaction\",\n",
    "    user='postgres',\n",
    "    password='1234',\n",
    "    host='localhost',\n",
    "    port='5430'\n",
    ")\n",
    "\n",
    "com = com.connect()\n",
    "print(\"Connected to PostgreSQL successfully!\")\n",
    "\n",
    "# Insert data into PostgreSQL\n",
    "create_table_query = \"\"\"\n",
    "CREATE TABLE IF NOT EXISTS transaction (\n",
    "    id SERIAL PRIMARY KEY,\n",
    "    date DATE,\n",
    "    domain TEXT,\n",
    "    location TEXT,\n",
    "    value numeric,\n",
    "    transaction_count INTEGER\n",
    ");\n",
    "\"\"\"\n",
    "\n",
    "# Convert date format (if needed)\n",
    "df[\"Date\"] = pd.to_datetime(df[\"Date\"]).dt.date\n",
    "\n",
    "# Insert row by row\n",
    "for row in df.itertuples():\n",
    "    com.execute(create_table_query, (row.Date, row.Domain, row.Location, row.Value, row.Transaction_count))\n",
    "com.commit()\n",
    "print(\"Data inserted successfully!\")\n"
   ]
  }
 ],
 "metadata": {
  "language_info": {
   "name": "python"
  }
 },
 "nbformat": 4,
 "nbformat_minor": 2
}
